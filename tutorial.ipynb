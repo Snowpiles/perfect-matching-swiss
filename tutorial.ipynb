{
 "cells": [
  {
   "cell_type": "markdown",
   "id": "fe2ea2e7",
   "metadata": {},
   "source": [
    "# Perfect Matching Swiss Tournament Tutorial"
   ]
  },
  {
   "cell_type": "code",
   "execution_count": 1,
   "id": "47b5ed95",
   "metadata": {},
   "outputs": [],
   "source": [
    "from perfect_matching_swiss import Tournament"
   ]
  },
  {
   "cell_type": "code",
   "execution_count": 2,
   "id": "e5ead9f8",
   "metadata": {},
   "outputs": [],
   "source": [
    "Tournament.add_player?"
   ]
  },
  {
   "cell_type": "code",
   "execution_count": 3,
   "id": "4bab11f0",
   "metadata": {},
   "outputs": [],
   "source": [
    "# Create tournament\n",
    "to = Tournament()"
   ]
  },
  {
   "cell_type": "code",
   "execution_count": 4,
   "id": "ef82a467",
   "metadata": {},
   "outputs": [],
   "source": [
    "# Change settings\n",
    "to.win_pts = 1\n",
    "to.draw_pts = 0.5\n",
    "to.bye_pts = 1\n",
    "to.home_away = True"
   ]
  },
  {
   "cell_type": "code",
   "execution_count": 5,
   "id": "b3a2fe7d",
   "metadata": {},
   "outputs": [],
   "source": [
    "players = ['Carlsen','Caruana','Nakamura','Ding','Giri','Firouzja','Nepomniachtchi','So','Wei','Anand']"
   ]
  },
  {
   "cell_type": "code",
   "execution_count": 6,
   "id": "f7968bd4",
   "metadata": {},
   "outputs": [],
   "source": [
    "# Add players to tournament\n",
    "for player in players:\n",
    "    to.add_player(player)"
   ]
  },
  {
   "cell_type": "code",
   "execution_count": 7,
   "id": "95ae630e",
   "metadata": {},
   "outputs": [
    {
     "data": {
      "text/plain": [
       "dict_keys(['Carlsen', 'Caruana', 'Nakamura', 'Ding', 'Giri', 'Firouzja', 'Nepomniachtchi', 'So', 'Wei', 'Anand'])"
      ]
     },
     "execution_count": 7,
     "metadata": {},
     "output_type": "execute_result"
    }
   ],
   "source": [
    "# Obtain list of players\n",
    "to.player_dict.keys()"
   ]
  },
  {
   "cell_type": "code",
   "execution_count": 8,
   "id": "f298aea7",
   "metadata": {},
   "outputs": [
    {
     "data": {
      "text/plain": [
       "[('Giri', 'Firouzja', 1),\n",
       " ('So', 'Caruana', 1),\n",
       " ('Carlsen', 'Anand', 1),\n",
       " ('Ding', 'Nepomniachtchi', 1),\n",
       " ('Nakamura', 'Wei', 1)]"
      ]
     },
     "execution_count": 8,
     "metadata": {},
     "output_type": "execute_result"
    }
   ],
   "source": [
    "# Create fixtures\n",
    "to.create_fixtures()\n",
    "\n",
    "# View fixtures\n",
    "to.pending_fixture_list\n",
    "# Format: (Home, away, round/matchday)"
   ]
  },
  {
   "cell_type": "code",
   "execution_count": 9,
   "id": "d0656fc5",
   "metadata": {},
   "outputs": [],
   "source": [
    "# Report fixture result\n",
    "to.report_result({'Giri': 0.5, 'Firouzja': 0.5})\n",
    "to.report_result({'So': 0.5, 'Caruana': 0.5})\n",
    "to.report_result({'Carlsen': 0, 'Anand': 1})\n",
    "to.report_result({'Ding': 0, 'Nepomniachtchi': 1})\n",
    "to.report_result({'Nakamura': 1, 'Wei': 0})"
   ]
  },
  {
   "cell_type": "code",
   "execution_count": 10,
   "id": "e53e15b6",
   "metadata": {},
   "outputs": [
    {
     "data": {
      "text/html": [
       "<div>\n",
       "<style scoped>\n",
       "    .dataframe tbody tr th:only-of-type {\n",
       "        vertical-align: middle;\n",
       "    }\n",
       "\n",
       "    .dataframe tbody tr th {\n",
       "        vertical-align: top;\n",
       "    }\n",
       "\n",
       "    .dataframe thead th {\n",
       "        text-align: right;\n",
       "    }\n",
       "</style>\n",
       "<table border=\"1\" class=\"dataframe\">\n",
       "  <thead>\n",
       "    <tr style=\"text-align: right;\">\n",
       "      <th></th>\n",
       "      <th>player</th>\n",
       "      <th>seed</th>\n",
       "      <th>sonneborn-berger</th>\n",
       "      <th>points</th>\n",
       "    </tr>\n",
       "  </thead>\n",
       "  <tbody>\n",
       "    <tr>\n",
       "      <th>0</th>\n",
       "      <td>Nakamura</td>\n",
       "      <td>0</td>\n",
       "      <td>0</td>\n",
       "      <td>1</td>\n",
       "    </tr>\n",
       "    <tr>\n",
       "      <th>1</th>\n",
       "      <td>Nepomniachtchi</td>\n",
       "      <td>0</td>\n",
       "      <td>0</td>\n",
       "      <td>1</td>\n",
       "    </tr>\n",
       "    <tr>\n",
       "      <th>2</th>\n",
       "      <td>Anand</td>\n",
       "      <td>0</td>\n",
       "      <td>0</td>\n",
       "      <td>1</td>\n",
       "    </tr>\n",
       "    <tr>\n",
       "      <th>3</th>\n",
       "      <td>Caruana</td>\n",
       "      <td>0</td>\n",
       "      <td>0.25</td>\n",
       "      <td>0.5</td>\n",
       "    </tr>\n",
       "    <tr>\n",
       "      <th>4</th>\n",
       "      <td>Giri</td>\n",
       "      <td>0</td>\n",
       "      <td>0.25</td>\n",
       "      <td>0.5</td>\n",
       "    </tr>\n",
       "    <tr>\n",
       "      <th>5</th>\n",
       "      <td>Firouzja</td>\n",
       "      <td>0</td>\n",
       "      <td>0.25</td>\n",
       "      <td>0.5</td>\n",
       "    </tr>\n",
       "    <tr>\n",
       "      <th>6</th>\n",
       "      <td>So</td>\n",
       "      <td>0</td>\n",
       "      <td>0.25</td>\n",
       "      <td>0.5</td>\n",
       "    </tr>\n",
       "    <tr>\n",
       "      <th>7</th>\n",
       "      <td>Carlsen</td>\n",
       "      <td>0</td>\n",
       "      <td>0</td>\n",
       "      <td>0</td>\n",
       "    </tr>\n",
       "    <tr>\n",
       "      <th>8</th>\n",
       "      <td>Ding</td>\n",
       "      <td>0</td>\n",
       "      <td>0</td>\n",
       "      <td>0</td>\n",
       "    </tr>\n",
       "    <tr>\n",
       "      <th>9</th>\n",
       "      <td>Wei</td>\n",
       "      <td>0</td>\n",
       "      <td>0</td>\n",
       "      <td>0</td>\n",
       "    </tr>\n",
       "  </tbody>\n",
       "</table>\n",
       "</div>"
      ],
      "text/plain": [
       "           player seed sonneborn-berger points\n",
       "0        Nakamura    0                0      1\n",
       "1  Nepomniachtchi    0                0      1\n",
       "2           Anand    0                0      1\n",
       "3         Caruana    0             0.25    0.5\n",
       "4            Giri    0             0.25    0.5\n",
       "5        Firouzja    0             0.25    0.5\n",
       "6              So    0             0.25    0.5\n",
       "7         Carlsen    0                0      0\n",
       "8            Ding    0                0      0\n",
       "9             Wei    0                0      0"
      ]
     },
     "execution_count": 10,
     "metadata": {},
     "output_type": "execute_result"
    }
   ],
   "source": [
    "# View table\n",
    "to.league_table()"
   ]
  }
 ],
 "metadata": {
  "kernelspec": {
   "display_name": "Python 3 (ipykernel)",
   "language": "python",
   "name": "python3"
  },
  "language_info": {
   "codemirror_mode": {
    "name": "ipython",
    "version": 3
   },
   "file_extension": ".py",
   "mimetype": "text/x-python",
   "name": "python",
   "nbconvert_exporter": "python",
   "pygments_lexer": "ipython3",
   "version": "3.11.3"
  }
 },
 "nbformat": 4,
 "nbformat_minor": 5
}
